{
 "cells": [
  {
   "cell_type": "markdown",
   "id": "60abf500",
   "metadata": {},
   "source": [
    "# Neural Collaborative Filtering"
   ]
  },
  {
   "cell_type": "code",
   "execution_count": 42,
   "id": "e5e32c92",
   "metadata": {},
   "outputs": [],
   "source": [
    "import pandas as pd\n",
    "from ast import literal_eval\n",
    "from sklearn.preprocessing import MultiLabelBinarizer\n",
    "import numpy as np\n",
    "import tensorflow as tf\n",
    "from sklearn.model_selection import train_test_split\n",
    "from tensorflow.keras.layers import Input, Embedding, Flatten, Multiply, Concatenate, Dense, Dropout, BatchNormalization\n",
    "from tensorflow.keras.models import Model\n",
    "from tensorflow.keras.optimizers import Adam\n",
    "from tensorflow.keras.callbacks import EarlyStopping\n",
    "import keras_tuner as kt\n"
   ]
  },
  {
   "cell_type": "code",
   "execution_count": 43,
   "id": "755a9d72",
   "metadata": {},
   "outputs": [],
   "source": [
    "import seaborn as sns\n",
    "import matplotlib.pyplot as plt\n",
    "from matplotlib.font_manager import FontProperties\n",
    "myfont = FontProperties(fname=\"./SimHei.ttf\")\n",
    "\n",
    "def visual_continue(df, func=None):\n",
    "    ax = sns.distplot(df)\n",
    "    if func:\n",
    "        func(ax)\n",
    "    \n",
    "    gca = plt.gca()\n",
    "    fig_title = \"Statistics of {}\".format(df.name)\n",
    "    gca.set_title(fig_title, fontsize=14)\n",
    "    gca.set_ylabel(\"Density\", fontsize=14)\n",
    "    gca.set_xlabel(df.name, fontsize=14)\n",
    "    \n",
    "    plt.show()"
   ]
  },
  {
   "cell_type": "markdown",
   "id": "a93b4a16",
   "metadata": {},
   "source": [
    "## Data Processing"
   ]
  },
  {
   "cell_type": "code",
   "execution_count": 44,
   "id": "6270fd5b",
   "metadata": {},
   "outputs": [],
   "source": [
    "df = pd.read_csv(\"data/big_matrix.csv\")\n",
    "categories_df = pd.read_csv(\"data/item_categories.csv\")\n",
    "user_features_df = pd.read_csv(\"data/user_features.csv\")\n",
    "item_features = pd.read_csv(\"data/item_daily_features.csv\")\n",
    "test_df = pd.read_csv(\"data/small_matrix.csv\")"
   ]
  },
  {
   "cell_type": "code",
   "execution_count": 45,
   "id": "5618bcc6",
   "metadata": {},
   "outputs": [],
   "source": [
    "for d in [df, categories_df, user_features_df, item_features, test_df]:\n",
    "    d.dropna(inplace=True)\n",
    "    d.drop_duplicates(inplace=True)\n",
    "df = df[df[\"timestamp\"] >= 0]"
   ]
  },
  {
   "cell_type": "code",
   "execution_count": 46,
   "id": "b74d63a9",
   "metadata": {},
   "outputs": [
    {
     "name": "stdout",
     "output_type": "stream",
     "text": [
      "Feature is_lowactive_period has a top frequency of 0.9995651543701985\n",
      "Feature is_live_streamer has a top frequency of 0.9930424699231772\n",
      "Feature onehot_feat5 has a top frequency of 0.99898536019713\n",
      "Feature onehot_feat11 has a top frequency of 0.9282504710827656\n",
      "Feature onehot_feat14 has a top frequency of 0.9054935497898247\n",
      "Feature onehot_feat15 has a top frequency of 0.981301637918539\n",
      "Feature onehot_feat16 has a top frequency of 0.9820263806348746\n",
      "Feature onehot_feat17 has a top frequency of 0.985505145673286\n"
     ]
    }
   ],
   "source": [
    "threshold = 0.9\n",
    "low_features_cols = []\n",
    "for col in [c for c in user_features_df.columns]:\n",
    "    top_freq = user_features_df[col].value_counts(normalize=True).values[0]\n",
    "    if top_freq >= threshold:\n",
    "        print(f\"Feature {col} has a top frequency of {top_freq}\")\n",
    "        low_features_cols.append(col)\n",
    "\n",
    "user_features_df.drop(columns=low_features_cols, inplace=True)\n",
    "user_features_df.drop(columns=[col for col in user_features_df.columns if col.endswith('_range')], inplace=True)"
   ]
  },
  {
   "cell_type": "markdown",
   "id": "00afeac1",
   "metadata": {},
   "source": [
    "## Feature Engineering"
   ]
  },
  {
   "cell_type": "code",
   "execution_count": 47,
   "id": "033d0f5d",
   "metadata": {},
   "outputs": [],
   "source": [
    "agg = item_features.groupby(\"video_id\")[[\n",
    "    'show_cnt', 'play_cnt', 'like_user_num', 'share_cnt', 'comment_cnt',\n",
    "]].sum()\n",
    "\n",
    "video_watch_ratio = df.groupby(\"video_id\")['watch_ratio'].mean()\n",
    "agg = agg.join(video_watch_ratio, on=\"video_id\",how=\"right\")\n"
   ]
  },
  {
   "cell_type": "code",
   "execution_count": 48,
   "id": "ba6f3618",
   "metadata": {},
   "outputs": [
    {
     "name": "stdout",
     "output_type": "stream",
     "text": [
      "Learned weights:\n",
      "comment_cnt      1.614535e-07\n",
      "play_cnt         4.957340e-08\n",
      "show_cnt        -6.881437e-08\n",
      "like_user_num   -1.382242e-07\n",
      "share_cnt       -1.935359e-06\n",
      "dtype: float64\n"
     ]
    }
   ],
   "source": [
    "from sklearn.linear_model import LinearRegression\n",
    "\n",
    "X = agg[['show_cnt', 'play_cnt', 'like_user_num', 'share_cnt', 'comment_cnt']].fillna(0)\n",
    "\n",
    "y = agg['watch_ratio'].fillna(0)\n",
    "\n",
    "model = LinearRegression()\n",
    "model.fit(X, y)\n",
    "\n",
    "coeffs = pd.Series(model.coef_, index=X.columns)\n",
    "print(\"Learned weights:\")\n",
    "print(coeffs.sort_values(ascending=False))\n",
    "\n",
    "\n",
    "agg['popularity_score'] = model.predict(X)\n"
   ]
  },
  {
   "cell_type": "code",
   "execution_count": 49,
   "id": "76a1df3b",
   "metadata": {},
   "outputs": [],
   "source": [
    "agg = agg['popularity_score']\n",
    "agg_df = agg.reset_index()\n",
    "agg_df.columns = ['video_id', 'popularity_score']\n",
    "agg_df = agg_df.dropna(subset=['video_id'])\n",
    "agg_df['video_id'] = agg_df['video_id'].astype('int32')"
   ]
  },
  {
   "cell_type": "code",
   "execution_count": 21,
   "id": "fe27fa22",
   "metadata": {},
   "outputs": [
    {
     "name": "stdout",
     "output_type": "stream",
     "text": [
      "count    10094.000000\n",
      "mean         1.200544\n",
      "std          0.144673\n",
      "min         -2.922962\n",
      "25%          1.227105\n",
      "50%          1.245443\n",
      "75%          1.246344\n",
      "max          1.248602\n",
      "Name: popularity_score, dtype: float64\n"
     ]
    },
    {
     "name": "stderr",
     "output_type": "stream",
     "text": [
      "/var/folders/9f/jfpypfpx4y3cgctjsdtf0qhh0000gn/T/ipykernel_53690/718493317.py:7: UserWarning: \n",
      "\n",
      "`distplot` is a deprecated function and will be removed in seaborn v0.14.0.\n",
      "\n",
      "Please adapt your code to use either `displot` (a figure-level function with\n",
      "similar flexibility) or `histplot` (an axes-level function for histograms).\n",
      "\n",
      "For a guide to updating your code to use the new functions, please see\n",
      "https://gist.github.com/mwaskom/de44147ed2974457ad6372750bbe5751\n",
      "\n",
      "  ax = sns.distplot(df)\n"
     ]
    },
    {
     "data": {
      "image/png": "[encoded data removed]",
      "text/plain": [
       "<Figure size 640x480 with 1 Axes>"
      ]
     },
     "metadata": {},
     "output_type": "display_data"
    }
   ],
   "source": [
    "print(agg_df['popularity_score'].describe())\n",
    "visual_continue(agg_df['popularity_score'])"
   ]
  },
  {
   "cell_type": "code",
   "execution_count": 50,
   "id": "e4193c6e",
   "metadata": {},
   "outputs": [],
   "source": [
    "# Encode tags (0-30) → multi-hot vector\n",
    "categories_df['feat'] = categories_df['feat'].apply(literal_eval)\n",
    "mlb = MultiLabelBinarizer(classes=list(range(31)))\n",
    "tag_matrix = mlb.fit_transform(categories_df['feat'])\n",
    "tag_df = pd.DataFrame(tag_matrix, columns=[f'tag_{i}' for i in mlb.classes_])\n",
    "item_cat = pd.concat([categories_df[['video_id']], tag_df], axis=1)\n",
    "\n",
    "# Encode string user_active_degree to integer codes\n",
    "user_features_df['user_active_degree'], _ = pd.factorize(user_features_df['user_active_degree'])\n",
    "for col in user_features_df.columns:\n",
    "    if col != 'user_id':\n",
    "        user_features_df[col] = user_features_df[col].astype('int32')\n",
    "\n",
    "df = df.merge(item_cat, on='video_id').merge(user_features_df, on='user_id').merge(agg_df, on='video_id')\n",
    "test_df = test_df.merge(item_cat, on='video_id').merge(user_features_df, on='user_id').merge(agg_df, on='video_id')"
   ]
  },
  {
   "cell_type": "code",
   "execution_count": 51,
   "id": "d4f6d4e8",
   "metadata": {},
   "outputs": [],
   "source": [
    "# Convert the tag columns into a list of multi-hot\n",
    "tag_cols = [f'tag_{i}' for i in range(31)]\n",
    "df['tag_multi_hot'] = df[tag_cols].values.tolist()\n",
    "test_df['tag_multi_hot'] = test_df[tag_cols].values.tolist()\n",
    "\n",
    "df.drop(columns=tag_cols, inplace=True)\n",
    "test_df.drop(columns=tag_cols, inplace=True)"
   ]
  },
  {
   "cell_type": "code",
   "execution_count": 61,
   "id": "97bc1a5e",
   "metadata": {},
   "outputs": [],
   "source": [
    "train_df, val_df = train_test_split(df, test_size=0.2, random_state=42)"
   ]
  },
  {
   "cell_type": "code",
   "execution_count": 13,
   "id": "04b09ffe",
   "metadata": {},
   "outputs": [
    {
     "name": "stdout",
     "output_type": "stream",
     "text": [
      "count    8.394580e+06\n",
      "mean     9.749956e-01\n",
      "std      1.706527e+00\n",
      "min      0.000000e+00\n",
      "25%      3.436399e-01\n",
      "50%      7.526808e-01\n",
      "75%      1.202427e+00\n",
      "max      2.669448e+02\n",
      "Name: watch_ratio, dtype: float64\n"
     ]
    },
    {
     "name": "stderr",
     "output_type": "stream",
     "text": [
      "/var/folders/9f/jfpypfpx4y3cgctjsdtf0qhh0000gn/T/ipykernel_36942/718493317.py:7: UserWarning: \n",
      "\n",
      "`distplot` is a deprecated function and will be removed in seaborn v0.14.0.\n",
      "\n",
      "Please adapt your code to use either `displot` (a figure-level function with\n",
      "similar flexibility) or `histplot` (an axes-level function for histograms).\n",
      "\n",
      "For a guide to updating your code to use the new functions, please see\n",
      "https://gist.github.com/mwaskom/de44147ed2974457ad6372750bbe5751\n",
      "\n",
      "  ax = sns.distplot(df)\n"
     ]
    },
    {
     "data": {
      "image/png": "[encoded data removed]",
      "text/plain": [
       "<Figure size 640x480 with 1 Axes>"
      ]
     },
     "metadata": {},
     "output_type": "display_data"
    }
   ],
   "source": [
    "train_watch_ratio = train_df['watch_ratio']\n",
    "print(train_watch_ratio.describe())\n",
    "visual_continue(train_watch_ratio)"
   ]
  },
  {
   "cell_type": "code",
   "execution_count": 62,
   "id": "d007fd98",
   "metadata": {},
   "outputs": [],
   "source": [
    "train_df = train_df[(train_df['watch_ratio'] > 0)]"
   ]
  },
  {
   "cell_type": "code",
   "execution_count": 63,
   "id": "64ba7ccc",
   "metadata": {},
   "outputs": [],
   "source": [
    "def preprocess_watch_ratio(df):\n",
    "    df = df.copy()\n",
    "    df['rating'] = np.log1p(df['watch_ratio'])  # log(1 + x)\n",
    "    return df\n",
    "\n",
    "\n",
    "train_df = preprocess_watch_ratio(train_df)\n",
    "val_df = preprocess_watch_ratio(val_df)"
   ]
  },
  {
   "cell_type": "code",
   "execution_count": 16,
   "id": "ce7e99d4",
   "metadata": {},
   "outputs": [
    {
     "name": "stdout",
     "output_type": "stream",
     "text": [
      "count    8.228598e+06\n",
      "mean     5.951294e-01\n",
      "std      3.806564e-01\n",
      "min      8.589774e-06\n",
      "25%      3.145346e-01\n",
      "50%      5.702574e-01\n",
      "75%      7.949493e-01\n",
      "max      5.590781e+00\n",
      "Name: rating, dtype: float64\n"
     ]
    },
    {
     "data": {
      "text/plain": [
       "<Axes: xlabel='rating', ylabel='Count'>"
      ]
     },
     "execution_count": 16,
     "metadata": {},
     "output_type": "execute_result"
    },
    {
     "data": {
      "image/png": "[encoded data removed]",
      "text/plain": [
       "<Figure size 640x480 with 1 Axes>"
      ]
     },
     "metadata": {},
     "output_type": "display_data"
    }
   ],
   "source": [
    "print(train_df['rating'].describe())\n",
    "sns.histplot(train_df[\"rating\"])"
   ]
  },
  {
   "cell_type": "code",
   "execution_count": 18,
   "id": "e51c27f5",
   "metadata": {},
   "outputs": [],
   "source": [
    "# Prepare tf.data Dataset\n",
    "def df_to_dataset(df, shuffle=False, batch_size=1024):\n",
    "    labels = df['rating'].values.astype('float32')\n",
    "    inputs = {\n",
    "        col: df[col].values\n",
    "        for col in ['user_id', 'video_id'] + [c for c in user_features_df.columns if c != 'user_id']\n",
    "    }\n",
    "    inputs['popularity_score'] = df['popularity_score'].values.astype('float32')\n",
    "    inputs['tag_multi_hot'] = np.array(df['tag_multi_hot'].tolist(), dtype='float32')\n",
    "    ds = tf.data.Dataset.from_tensor_slices((inputs, labels))\n",
    "    if shuffle:\n",
    "        ds = ds.shuffle(buffer_size=10000)\n",
    "    return ds.batch(batch_size).prefetch(tf.data.AUTOTUNE)\n",
    "\n",
    "\n",
    "\n",
    "train_ds = df_to_dataset(train_df, shuffle=True)\n",
    "val_ds = df_to_dataset(val_df)"
   ]
  },
  {
   "cell_type": "code",
   "execution_count": 19,
   "id": "c517e1ff",
   "metadata": {},
   "outputs": [
    {
     "name": "stdout",
     "output_type": "stream",
     "text": [
      "<class 'pandas.core.frame.DataFrame'>\n",
      "Index: 8228598 entries, 9451173 to 6423388\n",
      "Data columns (total 29 columns):\n",
      " #   Column              Dtype  \n",
      "---  ------              -----  \n",
      " 0   user_id             int64  \n",
      " 1   video_id            int64  \n",
      " 2   play_duration       int64  \n",
      " 3   video_duration      int64  \n",
      " 4   time                object \n",
      " 5   date                int64  \n",
      " 6   timestamp           float64\n",
      " 7   watch_ratio         float64\n",
      " 8   user_active_degree  int32  \n",
      " 9   is_video_author     int32  \n",
      " 10  follow_user_num     int32  \n",
      " 11  fans_user_num       int32  \n",
      " 12  friend_user_num     int32  \n",
      " 13  register_days       int32  \n",
      " 14  onehot_feat0        int32  \n",
      " 15  onehot_feat1        int32  \n",
      " 16  onehot_feat2        int32  \n",
      " 17  onehot_feat3        int32  \n",
      " 18  onehot_feat4        int32  \n",
      " 19  onehot_feat6        int32  \n",
      " 20  onehot_feat7        int32  \n",
      " 21  onehot_feat8        int32  \n",
      " 22  onehot_feat9        int32  \n",
      " 23  onehot_feat10       int32  \n",
      " 24  onehot_feat12       int32  \n",
      " 25  onehot_feat13       int32  \n",
      " 26  popularity_score    float64\n",
      " 27  tag_multi_hot       object \n",
      " 28  rating              float64\n",
      "dtypes: float64(4), int32(18), int64(5), object(2)\n",
      "memory usage: 1.3+ GB\n"
     ]
    }
   ],
   "source": [
    "train_df.info()"
   ]
  },
  {
   "cell_type": "code",
   "execution_count": 20,
   "id": "1269d5c2",
   "metadata": {},
   "outputs": [],
   "source": [
    "# Determine global vocab sizes\n",
    "vocab = {}\n",
    "for col in ['user_id', 'video_id'] + [c for c in user_features_df.columns if c != 'user_id']:\n",
    "    # calculate max over train+test\n",
    "    mx = max(train_df[col].max(), val_df[col].max())\n",
    "    vocab[col] = int(mx) + 1  # input_dim must be max_index+1"
   ]
  },
  {
   "cell_type": "code",
   "execution_count": 21,
   "id": "ebcbc58b",
   "metadata": {},
   "outputs": [],
   "source": [
    "n_users = vocab['user_id']\n",
    "n_items = vocab['video_id']"
   ]
  },
  {
   "cell_type": "markdown",
   "id": "cde88e1d",
   "metadata": {},
   "source": [
    "## Model"
   ]
  },
  {
   "cell_type": "code",
   "execution_count": 22,
   "id": "3a458718",
   "metadata": {},
   "outputs": [],
   "source": [
    "class NCFModel:\n",
    "    def __init__(self, n_users, n_items, vocab, user_features_df):\n",
    "        self.n_users = n_users\n",
    "        self.n_items = n_items\n",
    "        self.vocab = vocab\n",
    "        self.user_features_df = user_features_df\n",
    "\n",
    "    def build(self):\n",
    "\n",
    "        # Inputs\n",
    "        user_input = Input(shape=(1,), name='user_id')\n",
    "        item_input = Input(shape=(1,), name='video_id')\n",
    "        tag_input = Input(shape=(31,), name='tag_multi_hot', dtype='float32')\n",
    "        popularity_input = Input(shape=(1,), name='popularity_score', dtype='float32')\n",
    "        uf_input = [Input(shape=(), name=col, dtype='int32') for col in self.user_features_df.columns if col != 'user_id']\n",
    "        \n",
    "        # Embeddings\n",
    "        user_emb = Embedding(self.n_users, 16, name='user_emb')(user_input)\n",
    "        item_emb = Embedding(self.n_items, 16, name='item_emb')(item_input)\n",
    "\n",
    "        uf_embs = []\n",
    "        for inp in uf_input:\n",
    "            dim = self.vocab[inp.name]\n",
    "            emb = Embedding(input_dim=dim, output_dim=16)(inp)\n",
    "            uf_embs.append(Flatten()(emb))\n",
    "\n",
    "        user_vec = Flatten()(user_emb)\n",
    "        item_vec = Flatten()(item_emb)\n",
    "        tag_vec = Dense(32, activation='relu')(tag_input)\n",
    "        pop_vec = Dense(32, activation='relu')(popularity_input)\n",
    "        uf_vec = Concatenate()(uf_embs) if uf_embs else None\n",
    "\n",
    "        # GMF\n",
    "        gmf_vec = Multiply()([user_vec, item_vec])\n",
    "\n",
    "        # MLP\n",
    "        mlp_inputs = [user_vec, item_vec, tag_vec, pop_vec]\n",
    "        if uf_vec is not None:\n",
    "            mlp_inputs.append(uf_vec)\n",
    "        mlp_vec = Concatenate()(mlp_inputs)\n",
    "        for i in [32, 16, 8]:\n",
    "            mlp_vec = Dense(i, activation='relu', name=f'mlp_dense_{i}')(mlp_vec)\n",
    "            mlp_vec = BatchNormalization(name=f'bn_{i}')(mlp_vec)\n",
    "            mlp_vec = Dropout(0.1, name=f'dropout_{i}')(mlp_vec)\n",
    "\n",
    "        # Final output\n",
    "        concat = Concatenate()([gmf_vec, mlp_vec])\n",
    "        output = Dense(1, activation='linear', name='prediction')(concat)\n",
    "\n",
    "        model = Model(inputs=[user_input, item_input, tag_input, popularity_input] + uf_input, outputs=output)\n",
    "        model.compile(\n",
    "            optimizer=Adam(learning_rate=0.01),\n",
    "            loss='mse',\n",
    "            metrics=['mae', 'mse']\n",
    "        )\n",
    "\n",
    "        return model"
   ]
  },
  {
   "cell_type": "code",
   "execution_count": 23,
   "id": "1f6becf5",
   "metadata": {},
   "outputs": [],
   "source": [
    "ncf = NCFModel(n_users, n_items, vocab, user_features_df)\n",
    "model = ncf.build()\n"
   ]
  },
  {
   "cell_type": "code",
   "execution_count": 24,
   "id": "e9c5e8af",
   "metadata": {},
   "outputs": [
    {
     "name": "stdout",
     "output_type": "stream",
     "text": [
      "Epoch 1/10\n",
      "\u001b[1m8036/8036\u001b[0m \u001b[32m━━━━━━━━━━━━━━━━━━━━\u001b[0m\u001b[37m\u001b[0m \u001b[1m167s\u001b[0m 20ms/step - loss: 0.1229 - mae: 0.2421 - mse: 0.1229 - val_loss: 0.1107 - val_mae: 0.2289 - val_mse: 0.1107\n",
      "Epoch 2/10\n",
      "\u001b[1m8036/8036\u001b[0m \u001b[32m━━━━━━━━━━━━━━━━━━━━\u001b[0m\u001b[37m\u001b[0m \u001b[1m163s\u001b[0m 20ms/step - loss: 0.1059 - mae: 0.2226 - mse: 0.1059 - val_loss: 0.1108 - val_mae: 0.2294 - val_mse: 0.1108\n",
      "Epoch 3/10\n",
      "\u001b[1m8036/8036\u001b[0m \u001b[32m━━━━━━━━━━━━━━━━━━━━\u001b[0m\u001b[37m\u001b[0m \u001b[1m166s\u001b[0m 21ms/step - loss: 0.1044 - mae: 0.2200 - mse: 0.1044 - val_loss: 0.1107 - val_mae: 0.2290 - val_mse: 0.1107\n",
      "Epoch 4/10\n",
      "\u001b[1m8036/8036\u001b[0m \u001b[32m━━━━━━━━━━━━━━━━━━━━\u001b[0m\u001b[37m\u001b[0m \u001b[1m171s\u001b[0m 21ms/step - loss: 0.1037 - mae: 0.2190 - mse: 0.1037 - val_loss: 0.1111 - val_mae: 0.2280 - val_mse: 0.1111\n",
      "Epoch 5/10\n",
      "\u001b[1m8036/8036\u001b[0m \u001b[32m━━━━━━━━━━━━━━━━━━━━\u001b[0m\u001b[37m\u001b[0m \u001b[1m168s\u001b[0m 21ms/step - loss: 0.1032 - mae: 0.2183 - mse: 0.1032 - val_loss: 0.1115 - val_mae: 0.2304 - val_mse: 0.1115\n",
      "Epoch 6/10\n",
      "\u001b[1m8036/8036\u001b[0m \u001b[32m━━━━━━━━━━━━━━━━━━━━\u001b[0m\u001b[37m\u001b[0m \u001b[1m169s\u001b[0m 21ms/step - loss: 0.1028 - mae: 0.2179 - mse: 0.1028 - val_loss: 0.1105 - val_mae: 0.2266 - val_mse: 0.1105\n",
      "Epoch 7/10\n",
      "\u001b[1m8036/8036\u001b[0m \u001b[32m━━━━━━━━━━━━━━━━━━━━\u001b[0m\u001b[37m\u001b[0m \u001b[1m171s\u001b[0m 21ms/step - loss: 0.1025 - mae: 0.2174 - mse: 0.1025 - val_loss: 0.1116 - val_mae: 0.2278 - val_mse: 0.1116\n",
      "Epoch 8/10\n",
      "\u001b[1m8036/8036\u001b[0m \u001b[32m━━━━━━━━━━━━━━━━━━━━\u001b[0m\u001b[37m\u001b[0m \u001b[1m175s\u001b[0m 22ms/step - loss: 0.1024 - mae: 0.2173 - mse: 0.1024 - val_loss: 0.1104 - val_mae: 0.2273 - val_mse: 0.1104\n",
      "Epoch 9/10\n",
      "\u001b[1m8036/8036\u001b[0m \u001b[32m━━━━━━━━━━━━━━━━━━━━\u001b[0m\u001b[37m\u001b[0m \u001b[1m174s\u001b[0m 22ms/step - loss: 0.1022 - mae: 0.2171 - mse: 0.1022 - val_loss: 0.1109 - val_mae: 0.2259 - val_mse: 0.1109\n",
      "Epoch 10/10\n",
      "\u001b[1m8036/8036\u001b[0m \u001b[32m━━━━━━━━━━━━━━━━━━━━\u001b[0m\u001b[37m\u001b[0m \u001b[1m180s\u001b[0m 22ms/step - loss: 0.1020 - mae: 0.2169 - mse: 0.1020 - val_loss: 0.1115 - val_mae: 0.2267 - val_mse: 0.1115\n"
     ]
    },
    {
     "data": {
      "text/plain": [
       "<keras.src.callbacks.history.History at 0x3a7e90ef0>"
      ]
     },
     "execution_count": 24,
     "metadata": {},
     "output_type": "execute_result"
    }
   ],
   "source": [
    "stop_early = EarlyStopping(monitor='val_loss', patience=3, restore_best_weights=True)\n",
    "model.fit(\n",
    "    train_ds,\n",
    "    validation_data=val_ds,\n",
    "    epochs=10,\n",
    "    callbacks=[stop_early]\n",
    ")"
   ]
  },
  {
   "cell_type": "code",
   "execution_count": 28,
   "id": "bc99c872",
   "metadata": {},
   "outputs": [],
   "source": [
    "model.save('trained_models/NCF-extended.keras')"
   ]
  },
  {
   "cell_type": "code",
   "execution_count": 52,
   "id": "dbed64e0",
   "metadata": {},
   "outputs": [],
   "source": [
    "model = tf.keras.models.load_model('trained_models/NCF-extended.keras')"
   ]
  },
  {
   "cell_type": "markdown",
   "id": "99aa8951",
   "metadata": {},
   "source": [
    "## Top-K Performance Evaluation"
   ]
  },
  {
   "cell_type": "code",
   "execution_count": 53,
   "id": "712ff4cd",
   "metadata": {},
   "outputs": [],
   "source": [
    "from sklearn.metrics import ndcg_score\n",
    "\n",
    "def compute_ndcg(top_k_preds, ranked_items, true_watch_ratios, k):\n",
    "    relevance = [true_watch_ratios.get(item, 0.0) for item in ranked_items[:k]]\n",
    "    return ndcg_score([relevance], [top_k_preds])\n",
    "\n",
    "def compute_mae_rmse(top_k_preds, top_k_items, true_watch_ratios):\n",
    "    top_k_true = np.array([true_watch_ratios.get(item, 0.0) for item in top_k_items])\n",
    "    abs_errors = np.abs(top_k_true - top_k_preds)\n",
    "    sq_errors = (top_k_true - top_k_preds) ** 2\n",
    "    mae = np.mean(abs_errors)\n",
    "    rmse = np.sqrt(np.mean(sq_errors))\n",
    "    return mae, rmse\n",
    "\n",
    "def compute_popularity(top_k_popularity):\n",
    "    return np.mean(top_k_popularity)\n",
    "\n",
    "def compute_serendipity(top_k_items, true_watch_ratios, top_k_popularity):\n",
    "    max_popularity = top_k_popularity.max() if len(top_k_popularity) > 0 else 1.0\n",
    "\n",
    "    serendipities = []\n",
    "    for i, item_id in enumerate(top_k_items):\n",
    "        relevance = 1.0 if true_watch_ratios.get(item_id, 0.0) > 0 else 0.0\n",
    "        unexpectedness = 1.0 - (top_k_popularity[i] / max_popularity)\n",
    "        serendipity = relevance * unexpectedness\n",
    "        serendipities.append(serendipity)\n",
    "\n",
    "    return np.mean(serendipities) if serendipities else 0.0"
   ]
  },
  {
   "cell_type": "code",
   "execution_count": null,
   "id": "18d9ac18",
   "metadata": {},
   "outputs": [],
   "source": [
    "from scipy.stats import spearmanr\n",
    "def evaluate_model_at_k(model, df_test, user_feat, k=10):\n",
    "\n",
    "    all_user_ids = df_test['user_id'].unique()\n",
    "    ndcg_list = []\n",
    "    popularity_list = []\n",
    "    serendipity_list = []\n",
    "    mae_list = []\n",
    "    rmse_list = []\n",
    "    spearman_list = []\n",
    "\n",
    "    for user_id in all_user_ids:\n",
    "        user_df = df_test[df_test['user_id'] == user_id]\n",
    "        if user_df.empty:\n",
    "            continue\n",
    "\n",
    "        true_watch_ratios = {row['video_id']: row['watch_ratio'] for _, row in user_df.iterrows()}\n",
    "        if all(watch_ratio == 0 for watch_ratio in true_watch_ratios.values()):\n",
    "            continue\n",
    "\n",
    "        user_inputs = {\n",
    "            'user_id': np.full(len(user_df), user_id, dtype='int32'),\n",
    "            'video_id': user_df['video_id'].values.astype('int32'),\n",
    "            'popularity_score': user_df['popularity_score'].values.astype('float32'),\n",
    "            'tag_multi_hot': np.array(user_df['tag_multi_hot'].tolist(), dtype='float32'),\n",
    "        }\n",
    "\n",
    "        for col in user_feat.columns:\n",
    "            if col != 'user_id':\n",
    "                val = user_df[col].values.astype('int32')\n",
    "                user_inputs[col] = val\n",
    "\n",
    "        preds = np.expm1(model.predict(user_inputs, verbose=0).flatten())\n",
    "\n",
    "        ranked_indices = np.argsort(-preds)\n",
    "        ranked_items = user_df['video_id'].values[ranked_indices]\n",
    "        top_k_items = ranked_items[:k]\n",
    "        top_k_preds = preds[ranked_indices][:k]\n",
    "\n",
    "        top_k_popularity = user_df.iloc[ranked_indices[:k]]['popularity_score'].values\n",
    "\n",
    "        mae, rmse = compute_mae_rmse(top_k_preds, top_k_items, true_watch_ratios)\n",
    "        ndcg = compute_ndcg(top_k_preds, ranked_items, true_watch_ratios, k)\n",
    "        popularity = compute_popularity(top_k_popularity)\n",
    "        serendipity = compute_serendipity(top_k_items, true_watch_ratios, top_k_popularity)\n",
    "\n",
    "        true_scores = np.array([true_watch_ratios.get(vid, 0.0) for vid in user_df['video_id'].values])\n",
    "        if np.std(preds) == 0:\n",
    "            spearman_corr = 0.0\n",
    "        else:\n",
    "            spearman_corr, _ = spearmanr(true_scores, preds)\n",
    "        if not np.isnan(spearman_corr):\n",
    "            spearman_list.append(spearman_corr)\n",
    "\n",
    "        mae_list.append(mae)\n",
    "        rmse_list.append(rmse)\n",
    "        ndcg_list.append(ndcg)\n",
    "        popularity_list.append(popularity)\n",
    "        serendipity_list.append(serendipity)\n",
    "\n",
    "    print(f'NDCG@{k}:             {np.mean(ndcg_list):.4f}')\n",
    "    print(f'MAE@{k}:              {np.mean(mae_list):.4f}')\n",
    "    print(f'RMSE@{k}:             {np.mean(rmse_list):.4f}')\n",
    "    print(f'Serendipity@{k}:      {np.mean(serendipity_list):.4f}')\n",
    "    print(f'Average Popularity@{k}: {np.mean(popularity_list):.4f}')\n",
    "    print(f'Spearman Rank Correlation: {np.mean(spearman_list):.4f}')"
   ]
  },
  {
   "cell_type": "code",
   "execution_count": 67,
   "id": "f6c28428",
   "metadata": {},
   "outputs": [
    {
     "name": "stdout",
     "output_type": "stream",
     "text": [
      "NDCG@10:             0.8811\n",
      "MAE@10:              0.9141\n",
      "RMSE@10:             1.3063\n",
      "Serendipity@10:      0.0150\n",
      "Average Popularity@10: 1.2263\n",
      "Spearman Rank Correlation: 0.6201\n"
     ]
    }
   ],
   "source": [
    "evaluate_model_at_k(model, test_df, user_features_df)"
   ]
  },
  {
   "cell_type": "code",
   "execution_count": 68,
   "id": "f17552bf",
   "metadata": {},
   "outputs": [
    {
     "name": "stdout",
     "output_type": "stream",
     "text": [
      "NDCG@20:             0.8659\n",
      "MAE@20:              0.8546\n",
      "RMSE@20:             1.3293\n",
      "Serendipity@20:      0.0208\n",
      "Average Popularity@20: 1.2200\n",
      "Spearman Rank Correlation: 0.6201\n"
     ]
    }
   ],
   "source": [
    "evaluate_model_at_k(model, test_df, user_features_df, k=20)"
   ]
  },
  {
   "cell_type": "markdown",
   "id": "e24b11f6",
   "metadata": {},
   "source": [
    "## NCF Hyperparameter Optimizer"
   ]
  },
  {
   "cell_type": "code",
   "execution_count": 36,
   "id": "b91ad5fd",
   "metadata": {},
   "outputs": [],
   "source": [
    "class NCFHyperModel(kt.HyperModel):\n",
    "    def __init__(self, n_users, n_items, vocab, user_features_df):\n",
    "        self.n_users = n_users\n",
    "        self.n_items = n_items\n",
    "        self.vocab = vocab\n",
    "        self.user_features_df = user_features_df\n",
    "\n",
    "    def build(self, hp):\n",
    "        # Hyperparams\n",
    "        embedding_dim = hp.Int('embedding_dim', min_value=16, max_value=32, step=16)\n",
    "        dropout_rate = hp.Float('dropout_rate', min_value=0.0, max_value=0.5, step=0.1)\n",
    "\n",
    "        # Inputs\n",
    "        user_input = Input(shape=(1,), name='user_id')\n",
    "        item_input = Input(shape=(1,), name='video_id')\n",
    "        tag_input = Input(shape=(31,), name='tag_multi_hot', dtype='float32')\n",
    "        popularity_input = Input(shape=(1,), name='popularity_score', dtype='float32')\n",
    "        uf_input = [Input(shape=(), name=col, dtype='int32') for col in self.user_features_df.columns if col != 'user_id']\n",
    "\n",
    "        # Embeddings\n",
    "        user_emb = Embedding(self.n_users, embedding_dim, name='user_emb')(user_input)\n",
    "        item_emb = Embedding(self.n_items, embedding_dim, name='item_emb')(item_input)\n",
    "\n",
    "        uf_embs = []\n",
    "        for inp in uf_input:\n",
    "            dim = self.vocab[inp.name]\n",
    "            emb = Embedding(input_dim=dim, output_dim=embedding_dim)(inp)\n",
    "            uf_embs.append(Flatten()(emb))\n",
    "\n",
    "        user_vec = Flatten()(user_emb)\n",
    "        item_vec = Flatten()(item_emb)\n",
    "        tag_vec = Dense(32, activation='relu')(tag_input)\n",
    "        pop_vec = Dense(32, activation='relu')(popularity_input)\n",
    "        uf_vec = Concatenate()(uf_embs) if uf_embs else None\n",
    "\n",
    "        # GMF\n",
    "        gmf_vec = Multiply()([user_vec, item_vec])\n",
    "\n",
    "        # MLP\n",
    "        mlp_inputs = [user_vec, item_vec, tag_vec, pop_vec]\n",
    "        if uf_vec is not None:\n",
    "            mlp_inputs.append(uf_vec)\n",
    "        mlp_vec = Concatenate()(mlp_inputs)\n",
    "\n",
    "        for i in [256, 128, 64]:\n",
    "            mlp_vec = Dense(i, activation='relu')(mlp_vec)\n",
    "            mlp_vec = BatchNormalization()(mlp_vec)\n",
    "            mlp_vec = Dropout(dropout_rate)(mlp_vec)\n",
    "\n",
    "        # Final output\n",
    "        concat = Concatenate()([gmf_vec, mlp_vec])\n",
    "        output = Dense(1, activation='linear', name='prediction')(concat)\n",
    "\n",
    "        model = Model(inputs=[user_input, item_input, tag_input, popularity_input] + uf_input, outputs=output)\n",
    "        model.compile(\n",
    "            optimizer=Adam(learning_rate=0.01),\n",
    "            loss='mse',\n",
    "            metrics=['mae', 'mse']\n",
    "        )\n",
    "\n",
    "        return model\n"
   ]
  },
  {
   "cell_type": "code",
   "execution_count": 35,
   "id": "544350ba",
   "metadata": {},
   "outputs": [],
   "source": [
    "n_users = vocab['user_id']\n",
    "n_items = vocab['video_id']"
   ]
  },
  {
   "cell_type": "code",
   "execution_count": 37,
   "id": "d1d1f840",
   "metadata": {},
   "outputs": [],
   "source": [
    "hypermodel = NCFHyperModel(n_users=n_users, n_items=n_items, vocab=vocab, user_features_df=user_features_df)\n",
    "tuner = kt.Hyperband(\n",
    "    hypermodel,\n",
    "    objective='val_loss',\n",
    "    max_epochs=5,\n",
    "    directory='hp_optimizer/hp_tuning_extended',\n",
    "    project_name='ncf_model_tuning_extended',\n",
    ")"
   ]
  },
  {
   "cell_type": "code",
   "execution_count": 38,
   "id": "e4afedfc",
   "metadata": {},
   "outputs": [
    {
     "name": "stdout",
     "output_type": "stream",
     "text": [
      "Trial 10 Complete [00h 34m 24s]\n",
      "val_loss: 0.11142351478338242\n",
      "\n",
      "Best val_loss So Far: 0.10945849865674973\n",
      "Total elapsed time: 02h 50m 14s\n"
     ]
    }
   ],
   "source": [
    "# Search for the best hyperparameters if you haven't already\n",
    "stop_early = EarlyStopping(monitor='val_loss', patience=3, restore_best_weights=True)\n",
    "tuner.search(\n",
    "    train_ds,\n",
    "    validation_data=val_ds,\n",
    "    callbacks=[stop_early]\n",
    ")"
   ]
  },
  {
   "cell_type": "code",
   "execution_count": 39,
   "id": "f8828b90",
   "metadata": {},
   "outputs": [
    {
     "name": "stdout",
     "output_type": "stream",
     "text": [
      "Meilleurs hyperparamètres : {'embedding_dim': 16, 'dropout_rate': 0.2, 'tuner/epochs': 5, 'tuner/initial_epoch': 2, 'tuner/bracket': 1, 'tuner/round': 1, 'tuner/trial_id': '0003'}\n",
      "Epoch 1/10\n",
      "\u001b[1m8036/8036\u001b[0m \u001b[32m━━━━━━━━━━━━━━━━━━━━\u001b[0m\u001b[37m\u001b[0m \u001b[1m280s\u001b[0m 34ms/step - loss: 0.1038 - mae: 0.2191 - mse: 0.1038 - val_loss: 0.1103 - val_mae: 0.2269 - val_mse: 0.1103\n",
      "Epoch 2/10\n",
      "\u001b[1m8036/8036\u001b[0m \u001b[32m━━━━━━━━━━━━━━━━━━━━\u001b[0m\u001b[37m\u001b[0m \u001b[1m287s\u001b[0m 36ms/step - loss: 0.1034 - mae: 0.2187 - mse: 0.1034 - val_loss: 0.1092 - val_mae: 0.2244 - val_mse: 0.1092\n",
      "Epoch 3/10\n",
      "\u001b[1m8036/8036\u001b[0m \u001b[32m━━━━━━━━━━━━━━━━━━━━\u001b[0m\u001b[37m\u001b[0m \u001b[1m291s\u001b[0m 36ms/step - loss: 0.1031 - mae: 0.2184 - mse: 0.1031 - val_loss: 0.1105 - val_mae: 0.2273 - val_mse: 0.1105\n",
      "Epoch 4/10\n",
      "\u001b[1m8036/8036\u001b[0m \u001b[32m━━━━━━━━━━━━━━━━━━━━\u001b[0m\u001b[37m\u001b[0m \u001b[1m244s\u001b[0m 30ms/step - loss: 0.1027 - mae: 0.2180 - mse: 0.1027 - val_loss: 0.1108 - val_mae: 0.2261 - val_mse: 0.1108\n",
      "Epoch 5/10\n",
      "\u001b[1m8036/8036\u001b[0m \u001b[32m━━━━━━━━━━━━━━━━━━━━\u001b[0m\u001b[37m\u001b[0m \u001b[1m260s\u001b[0m 32ms/step - loss: 0.1025 - mae: 0.2177 - mse: 0.1025 - val_loss: 0.1110 - val_mae: 0.2269 - val_mse: 0.1110\n"
     ]
    },
    {
     "data": {
      "text/plain": [
       "<keras.src.callbacks.history.History at 0x59e0431a0>"
      ]
     },
     "execution_count": 39,
     "metadata": {},
     "output_type": "execute_result"
    }
   ],
   "source": [
    "best_model = tuner.get_best_models(num_models=1)[0]\n",
    "best_hps   = tuner.get_best_hyperparameters(num_trials=1)[0]\n",
    "print(\"Meilleurs hyperparamètres :\", best_hps.values)\n",
    "\n",
    "best_model.fit(\n",
    "    train_ds,\n",
    "    validation_data=val_ds,\n",
    "    epochs=10,\n",
    "    callbacks=[stop_early]\n",
    ")"
   ]
  },
  {
   "cell_type": "code",
   "execution_count": null,
   "id": "01f928eb",
   "metadata": {},
   "outputs": [],
   "source": [
    "best_model.save('trained_models/NCF-HP-extended.keras')"
   ]
  },
  {
   "cell_type": "code",
   "execution_count": 5,
   "id": "f4f1e0c5",
   "metadata": {},
   "outputs": [],
   "source": [
    "best_model = tf.keras.models.load_model('trained_models/NCF-HP-extended.keras')"
   ]
  },
  {
   "cell_type": "code",
   "execution_count": 24,
   "id": "8963bc3d",
   "metadata": {},
   "outputs": [
    {
     "name": "stdout",
     "output_type": "stream",
     "text": [
      "NDCG@10:             0.8772\n",
      "MAE@10:              0.9249\n",
      "RMSE@10:             1.3514\n",
      "Serendipity@10:      0.0128\n",
      "Average Popularity@10: 1.2288\n"
     ]
    }
   ],
   "source": [
    "evaluate_model_at_k(best_model, test_df, user_features_df)"
   ]
  },
  {
   "cell_type": "code",
   "execution_count": 25,
   "id": "2ab079e4",
   "metadata": {},
   "outputs": [
    {
     "name": "stdout",
     "output_type": "stream",
     "text": [
      "NDCG@20:             0.8636\n",
      "MAE@20:              0.8696\n",
      "RMSE@20:             1.3855\n",
      "Serendipity@20:      0.0177\n",
      "Average Popularity@20: 1.2239\n"
     ]
    }
   ],
   "source": [
    "evaluate_model_at_k(best_model, test_df, user_features_df, k=20)"
   ]
  },
  {
   "cell_type": "markdown",
   "id": "5bab804a",
   "metadata": {},
   "source": [
    "# Baseline Model for Comparison"
   ]
  },
  {
   "cell_type": "code",
   "execution_count": 69,
   "id": "7898e7c3",
   "metadata": {},
   "outputs": [],
   "source": [
    "global_mean = np.log1p(train_df['watch_ratio'].mean())\n",
    "class GlobalMeanBaseline:\n",
    "    def __init__(self):\n",
    "        self.global_mean = global_mean\n",
    "\n",
    "    def predict(self, inputs, verbose=0):\n",
    "        n = len(inputs['user_id'])\n",
    "        return np.full(shape=(n,), fill_value=self.global_mean)\n"
   ]
  },
  {
   "cell_type": "code",
   "execution_count": null,
   "id": "638e9419",
   "metadata": {},
   "outputs": [],
   "source": [
    "baseline_model = GlobalMeanBaseline()\n",
    "evaluate_model_at_k(baseline_model, test_df, user_features_df)"
   ]
  },
  {
   "cell_type": "markdown",
   "id": "f506e006",
   "metadata": {},
   "source": [
    "NDCG@10:             0.8142 \\\n",
    "MAE@10:              0.5043 \\\n",
    "RMSE@10:             0.6945 \\\n",
    "Serendipity@10:      0.1243 \\\n",
    "Average Popularity@10: 1.0871 \\\n",
    "Spearman Rank Correlation: 0.0000"
   ]
  },
  {
   "cell_type": "code",
   "execution_count": null,
   "id": "51dd1ae8",
   "metadata": {},
   "outputs": [],
   "source": [
    "evaluate_model_at_k(baseline_model, test_df, user_features_df, k=20)"
   ]
  },
  {
   "cell_type": "markdown",
   "id": "98a7cce1",
   "metadata": {},
   "source": [
    "NDCG@20:             0.7887 \\\n",
    "MAE@20:              0.4947 \\\n",
    "RMSE@20:             0.7094 \\\n",
    "Serendipity@20:      0.1295 \\\n",
    "Average Popularity@20: 1.0828 \\\n",
    "Spearman Rank Correlation: 0.0000"
   ]
  },
  {
   "cell_type": "code",
   "execution_count": null,
   "id": "b51c2e5d",
   "metadata": {},
   "outputs": [],
   "source": [
    "class PopularityBaseline:\n",
    "    def __init__(self, test_df, k=10):\n",
    "        self.k = k\n",
    "        self.popularity_map = (\n",
    "            test_df.groupby('video_id')['popularity_score']\n",
    "            .mean()\n",
    "            .to_dict()\n",
    "        )\n",
    "\n",
    "    def predict(self, inputs, verbose=0):\n",
    "        video_ids = inputs['video_id']\n",
    "        video_scores = np.array([self.popularity_map.get(vid, 0.0) for vid in video_ids])\n",
    "        return video_scores"
   ]
  },
  {
   "cell_type": "code",
   "execution_count": 77,
   "id": "5178fb3d",
   "metadata": {},
   "outputs": [
    {
     "name": "stdout",
     "output_type": "stream",
     "text": [
      "NDCG@10:             0.7905\n",
      "MAE@10:              1.5349\n",
      "RMSE@10:             1.7366\n",
      "Serendipity@10:      0.0000\n",
      "Average Popularity@10: 1.2464\n",
      "Spearman Rank Correlation: 0.2454\n"
     ]
    }
   ],
   "source": [
    "popularity_model = PopularityBaseline(test_df)\n",
    "evaluate_model_at_k(popularity_model, test_df, user_features_df)"
   ]
  },
  {
   "cell_type": "markdown",
   "id": "d57bf613",
   "metadata": {},
   "source": [
    "# Generate top k videos"
   ]
  },
  {
   "cell_type": "code",
   "execution_count": null,
   "id": "87f7a44f",
   "metadata": {},
   "outputs": [],
   "source": [
    "def generate_top_k_recommendations(test_df, user_features_df, model, k=10):\n",
    "    \"\"\"\n",
    "    Generates the top-k recommended videos for each user in test_df.\n",
    "\n",
    "    Parameters:\n",
    "    - test_df: DataFrame containing test data (must include user_id, video_id, score_popularity, tag_multi_hot)\n",
    "    - user_features_df: DataFrame containing user features\n",
    "    - model: trained model with a .predict method\n",
    "    - k: number of recommendations to return per user\n",
    "\n",
    "    Returns:\n",
    "    - top_k_df: DataFrame containing user_id and their list of top_k_videos\n",
    "    \"\"\"\n",
    "    top_k_videos = []\n",
    "\n",
    "    for user_id in test_df['user_id'].unique():\n",
    "        user_df = test_df[test_df['user_id'] == user_id]\n",
    "\n",
    "        user_inputs = {\n",
    "            'user_id': np.full(len(user_df), user_id, dtype='int32'),\n",
    "            'video_id': user_df['video_id'].values.astype('int32'),\n",
    "            'popularity_score': user_df['popularity_score'].values.astype('float32'),\n",
    "            'tag_multi_hot': np.stack(user_df['tag_multi_hot'].values)\n",
    "        }\n",
    "\n",
    "        for col in user_features_df.columns:\n",
    "            if col != 'user_id':\n",
    "                val = user_df[col].values.astype('int32')\n",
    "                user_inputs[col] = val\n",
    "\n",
    "        preds = model.predict(user_inputs, verbose=0).flatten()\n",
    "        sorted_indices = np.argsort(-preds)\n",
    "        ranked_items = user_df['video_id'].values[sorted_indices]\n",
    "        top_k_items = ranked_items[:k]\n",
    "\n",
    "        top_k_videos.append({'user_id': user_id, 'top_k_videos': top_k_items.tolist()})\n",
    "\n",
    "    top_k_videos = sorted(top_k_videos, key=lambda x: x['user_id'])\n",
    "    top_k_df = pd.DataFrame(top_k_videos)\n",
    "    return top_k_df\n"
   ]
  },
  {
   "cell_type": "code",
   "execution_count": 37,
   "id": "0b20a2dc",
   "metadata": {},
   "outputs": [],
   "source": [
    "def get_zero_watch_ratio_inputs(df):\n",
    "    zero_df = df[df['watch_ratio'] == 0]\n",
    "    return zero_df\n",
    "\n",
    "zero_watch_inputs_train = get_zero_watch_ratio_inputs(df)\n",
    "zero_watch_inputs_test = get_zero_watch_ratio_inputs(test_df)\n",
    "\n",
    "zero_watch_inputs = pd.concat([zero_watch_inputs_train, zero_watch_inputs_test])\n"
   ]
  },
  {
   "cell_type": "code",
   "execution_count": null,
   "id": "0ea6b741",
   "metadata": {},
   "outputs": [],
   "source": [
    "top_k_df = generate_top_k_recommendations(zero_watch_inputs, model)"
   ]
  },
  {
   "cell_type": "code",
   "execution_count": 27,
   "id": "1fd14847",
   "metadata": {},
   "outputs": [
    {
     "data": {
      "text/html": [
       "<div>\n",
       "<style scoped>\n",
       "    .dataframe tbody tr th:only-of-type {\n",
       "        vertical-align: middle;\n",
       "    }\n",
       "\n",
       "    .dataframe tbody tr th {\n",
       "        vertical-align: top;\n",
       "    }\n",
       "\n",
       "    .dataframe thead th {\n",
       "        text-align: right;\n",
       "    }\n",
       "</style>\n",
       "<table border=\"1\" class=\"dataframe\">\n",
       "  <thead>\n",
       "    <tr style=\"text-align: right;\">\n",
       "      <th></th>\n",
       "      <th>user_id</th>\n",
       "      <th>top_k_videos</th>\n",
       "    </tr>\n",
       "  </thead>\n",
       "  <tbody>\n",
       "    <tr>\n",
       "      <th>0</th>\n",
       "      <td>0</td>\n",
       "      <td>[1871, 3338, 7157, 8629, 2314, 6716, 1158, 117...</td>\n",
       "    </tr>\n",
       "    <tr>\n",
       "      <th>1</th>\n",
       "      <td>1</td>\n",
       "      <td>[1116, 4475, 9622, 525, 4325, 4554, 4554, 4416...</td>\n",
       "    </tr>\n",
       "    <tr>\n",
       "      <th>2</th>\n",
       "      <td>2</td>\n",
       "      <td>[7451, 7657]</td>\n",
       "    </tr>\n",
       "    <tr>\n",
       "      <th>3</th>\n",
       "      <td>3</td>\n",
       "      <td>[8298, 723, 4932, 4152, 7670, 1565, 3128, 5252...</td>\n",
       "    </tr>\n",
       "    <tr>\n",
       "      <th>4</th>\n",
       "      <td>4</td>\n",
       "      <td>[3089]</td>\n",
       "    </tr>\n",
       "    <tr>\n",
       "      <th>...</th>\n",
       "      <td>...</td>\n",
       "      <td>...</td>\n",
       "    </tr>\n",
       "    <tr>\n",
       "      <th>6241</th>\n",
       "      <td>7170</td>\n",
       "      <td>[9645, 10374, 4735, 774, 5777, 8475, 9916, 400...</td>\n",
       "    </tr>\n",
       "    <tr>\n",
       "      <th>6242</th>\n",
       "      <td>7172</td>\n",
       "      <td>[6977, 7031, 7031, 2631, 1452, 6630, 856, 6063...</td>\n",
       "    </tr>\n",
       "    <tr>\n",
       "      <th>6243</th>\n",
       "      <td>7173</td>\n",
       "      <td>[6849, 2007, 264]</td>\n",
       "    </tr>\n",
       "    <tr>\n",
       "      <th>6244</th>\n",
       "      <td>7174</td>\n",
       "      <td>[3722, 1518, 684, 8942, 5729, 9059, 2650, 9871...</td>\n",
       "    </tr>\n",
       "    <tr>\n",
       "      <th>6245</th>\n",
       "      <td>7175</td>\n",
       "      <td>[6801, 8783, 8542, 8542, 8213]</td>\n",
       "    </tr>\n",
       "  </tbody>\n",
       "</table>\n",
       "<p>6246 rows × 2 columns</p>\n",
       "</div>"
      ],
      "text/plain": [
       "      user_id                                       top_k_videos\n",
       "0           0  [1871, 3338, 7157, 8629, 2314, 6716, 1158, 117...\n",
       "1           1  [1116, 4475, 9622, 525, 4325, 4554, 4554, 4416...\n",
       "2           2                                       [7451, 7657]\n",
       "3           3  [8298, 723, 4932, 4152, 7670, 1565, 3128, 5252...\n",
       "4           4                                             [3089]\n",
       "...       ...                                                ...\n",
       "6241     7170  [9645, 10374, 4735, 774, 5777, 8475, 9916, 400...\n",
       "6242     7172  [6977, 7031, 7031, 2631, 1452, 6630, 856, 6063...\n",
       "6243     7173                                  [6849, 2007, 264]\n",
       "6244     7174  [3722, 1518, 684, 8942, 5729, 9059, 2650, 9871...\n",
       "6245     7175                     [6801, 8783, 8542, 8542, 8213]\n",
       "\n",
       "[6246 rows x 2 columns]"
      ]
     },
     "execution_count": 27,
     "metadata": {},
     "output_type": "execute_result"
    }
   ],
   "source": [
    "top_k_df"
   ]
  },
  {
   "cell_type": "code",
   "execution_count": null,
   "id": "7ce71283",
   "metadata": {},
   "outputs": [],
   "source": [
    "top_k_df.to_csv('top_k_recommendations.csv')"
   ]
  }
 ],
 "metadata": {
  "kernelspec": {
   "display_name": ".env_ia",
   "language": "python",
   "name": "python3"
  },
  "language_info": {
   "codemirror_mode": {
    "name": "ipython",
    "version": 3
   },
   "file_extension": ".py",
   "mimetype": "text/x-python",
   "name": "python",
   "nbconvert_exporter": "python",
   "pygments_lexer": "ipython3",
   "version": "3.12.9"
  }
 },
 "nbformat": 4,
 "nbformat_minor": 5
}
